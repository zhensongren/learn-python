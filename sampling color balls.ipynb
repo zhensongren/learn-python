{
 "cells": [
  {
   "cell_type": "markdown",
   "metadata": {},
   "source": [
    " 有一堆彩色球， 红黄蓝绿紫等等， 现在给你一个概率的list/dict, 比方说红20%， 黄30%， 蓝50%， 你给我写个程序抽球(sample)。Sampling from a huge number of colored balls"
   ]
  },
  {
   "cell_type": "code",
   "execution_count": 36,
   "metadata": {},
   "outputs": [],
   "source": [
    "prob = {'red': 0.2, 'yellow': 0.3, 'blue': 0.5}\n",
    "# The colors (groups) of a bag of balls may or maynot be the same as the keys of prob\n",
    "colors = ['red', 'yellow', 'blue'] \n",
    "# function to pick the ball with certain probality\n",
    "import numpy as np\n",
    "def pick_ball(colors, num, prob):\n",
    "    return np.random.choice(colors, num, prob)"
   ]
  },
  {
   "cell_type": "code",
   "execution_count": 48,
   "metadata": {},
   "outputs": [
    {
     "name": "stdout",
     "output_type": "stream",
     "text": [
      "red\n",
      "yellow\n",
      "red\n",
      "blue\n",
      "blue\n",
      "blue\n",
      "red\n",
      "blue\n",
      "red\n",
      "yellow\n"
     ]
    }
   ],
   "source": [
    "for i in range(10):\n",
    "    print(pick_ball(colors, 1, prob)[0])"
   ]
  },
  {
   "cell_type": "code",
   "execution_count": 45,
   "metadata": {},
   "outputs": [],
   "source": [
    "def pick_n_balls(n):\n",
    "    balls = {}\n",
    "    while n > 0:\n",
    "        color = pick_ball(colors, 1, prob)[0]\n",
    "        balls[color] = balls.get(color, 0) + 1\n",
    "        n-=1\n",
    "    return balls"
   ]
  },
  {
   "cell_type": "code",
   "execution_count": 22,
   "metadata": {},
   "outputs": [
    {
     "data": {
      "text/plain": [
       "{'yellow': 327, 'red': 335, 'blue': 338}"
      ]
     },
     "execution_count": 22,
     "metadata": {},
     "output_type": "execute_result"
    }
   ],
   "source": [
    "pick_n_balls(1000)"
   ]
  },
  {
   "cell_type": "markdown",
   "metadata": {},
   "source": [
    "numpy.random.sample"
   ]
  },
  {
   "cell_type": "code",
   "execution_count": 52,
   "metadata": {},
   "outputs": [
    {
     "data": {
      "text/plain": [
       "0.21949529581674654"
      ]
     },
     "execution_count": 52,
     "metadata": {},
     "output_type": "execute_result"
    }
   ],
   "source": [
    "np.random.random_sample()"
   ]
  },
  {
   "cell_type": "code",
   "execution_count": 53,
   "metadata": {},
   "outputs": [
    {
     "data": {
      "text/plain": [
       "0.30753205461353494"
      ]
     },
     "execution_count": 53,
     "metadata": {},
     "output_type": "execute_result"
    }
   ],
   "source": [
    "np.random.sample()"
   ]
  },
  {
   "cell_type": "code",
   "execution_count": 54,
   "metadata": {},
   "outputs": [
    {
     "data": {
      "text/plain": [
       "array([0.72312526, 0.43891366, 0.89168591, 0.45354253])"
      ]
     },
     "execution_count": 54,
     "metadata": {},
     "output_type": "execute_result"
    }
   ],
   "source": [
    "np.random.random_sample(4)"
   ]
  },
  {
   "cell_type": "code",
   "execution_count": 56,
   "metadata": {},
   "outputs": [
    {
     "data": {
      "text/plain": [
       "array([[0.08012933],\n",
       "       [0.73724056],\n",
       "       [0.55333936],\n",
       "       [0.72307298]])"
      ]
     },
     "execution_count": 56,
     "metadata": {},
     "output_type": "execute_result"
    }
   ],
   "source": [
    "np.random.random_sample((4, 1))"
   ]
  },
  {
   "cell_type": "code",
   "execution_count": 58,
   "metadata": {},
   "outputs": [
    {
     "data": {
      "text/plain": [
       "array([[0.90440711, 0.68876144, 0.869219  , 0.30776837]])"
      ]
     },
     "execution_count": 58,
     "metadata": {},
     "output_type": "execute_result"
    }
   ],
   "source": [
    "np.random.sample((1, 4))"
   ]
  },
  {
   "cell_type": "markdown",
   "metadata": {},
   "source": [
    "### random int from low and high, inclusive"
   ]
  },
  {
   "cell_type": "code",
   "execution_count": 61,
   "metadata": {},
   "outputs": [
    {
     "name": "stderr",
     "output_type": "stream",
     "text": [
      "<ipython-input-61-f64c301fced7>:1: DeprecationWarning: This function is deprecated. Please call randint(1, 5 + 1) instead\n",
      "  np.random.random_integers(5, size=(3,2))\n"
     ]
    },
    {
     "data": {
      "text/plain": [
       "array([[5, 4],\n",
       "       [3, 5],\n",
       "       [2, 3]])"
      ]
     },
     "execution_count": 61,
     "metadata": {},
     "output_type": "execute_result"
    }
   ],
   "source": [
    "np.random.random_integers(5, size=(3,2))"
   ]
  },
  {
   "cell_type": "code",
   "execution_count": 65,
   "metadata": {},
   "outputs": [
    {
     "data": {
      "text/plain": [
       "array([[2, 1],\n",
       "       [2, 0],\n",
       "       [4, 1]])"
      ]
     },
     "execution_count": 65,
     "metadata": {},
     "output_type": "execute_result"
    }
   ],
   "source": [
    "np.random.randint(5, size=(3,2)) #high (exclusive)."
   ]
  },
  {
   "cell_type": "markdown",
   "metadata": {},
   "source": [
    "## use random.random() or random.choice()"
   ]
  },
  {
   "cell_type": "code",
   "execution_count": 142,
   "metadata": {},
   "outputs": [],
   "source": [
    "# use random.random() \n",
    "import random\n",
    "prob = [('red', 0.2), ('yellow', 0.3), ('blue', 0.5)]\n",
    "# get a number between (0, 0.2), (0.2, 0.5), (0.5, 1)\n",
    "\n",
    "# function to pick the ball with specified probality for each colors\n",
    "def pick_a_ball(prob):\n",
    "    randint_rng = []\n",
    "    upper = 0\n",
    "    lower = 0\n",
    "    for i, x in enumerate(prob):\n",
    "        lower = upper\n",
    "        upper += x[1] # map the probability to a range.\n",
    "        randint_rng.append((x[0], lower, upper))\n",
    "#     print(f'ball\\'s color and its range: {randint_rng}')\n",
    "    # pick the ball with a random number\n",
    "    num = random.random()\n",
    "    for rng in randint_rng:\n",
    "        if rng[1] <= num < rng[2]:\n",
    "            return rng[0]"
   ]
  },
  {
   "cell_type": "code",
   "execution_count": 143,
   "metadata": {},
   "outputs": [
    {
     "data": {
      "text/plain": [
       "'blue'"
      ]
     },
     "execution_count": 143,
     "metadata": {},
     "output_type": "execute_result"
    }
   ],
   "source": [
    "pick_a_ball(prob)"
   ]
  },
  {
   "cell_type": "code",
   "execution_count": 151,
   "metadata": {},
   "outputs": [
    {
     "data": {
      "text/plain": [
       "Counter({'blue': 4973, 'red': 2080, 'yellow': 2947})"
      ]
     },
     "execution_count": 151,
     "metadata": {},
     "output_type": "execute_result"
    }
   ],
   "source": [
    "res = []\n",
    "for i in range(10000):\n",
    "    res.append(pick_a_ball(prob))\n",
    "    \n",
    "from collections import Counter\n",
    "Counter(res)"
   ]
  }
 ],
 "metadata": {
  "kernelspec": {
   "display_name": "Python 3",
   "language": "python",
   "name": "python3"
  },
  "language_info": {
   "codemirror_mode": {
    "name": "ipython",
    "version": 3
   },
   "file_extension": ".py",
   "mimetype": "text/x-python",
   "name": "python",
   "nbconvert_exporter": "python",
   "pygments_lexer": "ipython3",
   "version": "3.8.3"
  }
 },
 "nbformat": 4,
 "nbformat_minor": 4
}
