{
 "cells": [
  {
   "cell_type": "markdown",
   "metadata": {},
   "source": [
    "This is the wrong way to code it in Python:\n",
    "Building File Paths by Hand"
   ]
  },
  {
   "cell_type": "code",
   "execution_count": 1,
   "metadata": {},
   "outputs": [
    {
     "name": "stdout",
     "output_type": "stream",
     "text": [
      "# learn-python\n",
      "A collection of jupyter notebooks to practice and learn pythonic codes and get things done!\n",
      "\n"
     ]
    }
   ],
   "source": [
    "# / would be fine, python will recognize either kind of slash when you call open() on Windows.\n",
    "data_folder = \"./\"\n",
    "\n",
    "file_to_open = data_folder + \"readme.md\"\n",
    "\n",
    "f = open(file_to_open)\n",
    "\n",
    "print(f.read())"
   ]
  },
  {
   "cell_type": "markdown",
   "metadata": {},
   "source": [
    "Avoid writing code with hardcoded path strings \n",
    "\\\\\\ would totally fail on a Mac"
   ]
  },
  {
   "cell_type": "code",
   "execution_count": 2,
   "metadata": {},
   "outputs": [
    {
     "name": "stdout",
     "output_type": "stream",
     "text": [
      "# learn-python\n",
      "A collection of jupyter notebooks to practice and learn pythonic codes and get things done!\n",
      "\n"
     ]
    }
   ],
   "source": [
    "data_folder = \".\\\\\"\n",
    "\n",
    "file_to_open = data_folder + \"readme.md\"\n",
    "\n",
    "f = open(file_to_open)\n",
    "\n",
    "print(f.read())"
   ]
  },
  {
   "cell_type": "markdown",
   "metadata": {},
   "source": [
    "Use os.path module"
   ]
  },
  {
   "cell_type": "code",
   "execution_count": 3,
   "metadata": {},
   "outputs": [
    {
     "name": "stdout",
     "output_type": "stream",
     "text": [
      "# learn-python\n",
      "A collection of jupyter notebooks to practice and learn pythonic codes and get things done!\n",
      "\n"
     ]
    }
   ],
   "source": [
    "import os.path\n",
    "\n",
    "data_folder = os.path.join(\"./\")\n",
    "\n",
    "file_to_open = os.path.join(data_folder, \"readme.md\")\n",
    "\n",
    "f = open(file_to_open)\n",
    "\n",
    "print(f.read())"
   ]
  },
  {
   "cell_type": "markdown",
   "metadata": {},
   "source": [
    "## Use path object to store file path"
   ]
  },
  {
   "cell_type": "code",
   "execution_count": 4,
   "metadata": {},
   "outputs": [
    {
     "name": "stdout",
     "output_type": "stream",
     "text": [
      "# learn-python\n",
      "A collection of jupyter notebooks to practice and learn pythonic codes and get things done!\n",
      "\n"
     ]
    }
   ],
   "source": [
    "from pathlib import Path\n",
    "\n",
    "data_folder = Path(\"./\")\n",
    "\n",
    "file_to_open = data_folder / \"readme.md\"\n",
    "\n",
    "f = open(file_to_open)\n",
    "\n",
    "print(f.read())"
   ]
  },
  {
   "cell_type": "code",
   "execution_count": 5,
   "metadata": {},
   "outputs": [
    {
     "name": "stdout",
     "output_type": "stream",
     "text": [
      "# learn-python\n",
      "A collection of jupyter notebooks to practice and learn pythonic codes and get things done!\n",
      "\n"
     ]
    }
   ],
   "source": [
    "print(file_to_open.read_text())"
   ]
  },
  {
   "cell_type": "code",
   "execution_count": 6,
   "metadata": {},
   "outputs": [
    {
     "name": "stdout",
     "output_type": "stream",
     "text": [
      "readme.md\n",
      ".md\n",
      "readme\n",
      "Yay, the file exists!\n"
     ]
    }
   ],
   "source": [
    "filename = file_to_open\n",
    "print(filename.name)\n",
    "print(filename.suffix)\n",
    "print(filename.stem)\n",
    "if not filename.exists():\n",
    "    print(\"Oops, file doesn't exist!\")\n",
    "else:\n",
    "    print(\"Yay, the file exists!\")"
   ]
  },
  {
   "cell_type": "code",
   "execution_count": 7,
   "metadata": {},
   "outputs": [
    {
     "name": "stdout",
     "output_type": "stream",
     "text": [
      "readme.md\n"
     ]
    }
   ],
   "source": [
    "from pathlib import PureWindowsPath\n",
    "path_on_windows = PureWindowsPath(filename)\n",
    "print(path_on_windows)"
   ]
  },
  {
   "cell_type": "code",
   "execution_count": 8,
   "metadata": {},
   "outputs": [
    {
     "data": {
      "text/plain": [
       "'C:\\\\Users\\\\zhens\\\\Google Drive\\\\Career\\\\Data Science\\\\Projects\\\\learn-python'"
      ]
     },
     "execution_count": 8,
     "metadata": {},
     "output_type": "execute_result"
    }
   ],
   "source": [
    "%pwd"
   ]
  },
  {
   "cell_type": "code",
   "execution_count": 9,
   "metadata": {},
   "outputs": [
    {
     "name": "stdout",
     "output_type": "stream",
     "text": [
      "C:\\Users\\zhens\\Google Drive\\Career\\Data Science\\Projects\\learn-python\n"
     ]
    }
   ],
   "source": [
    "from pathlib import Path, PureWindowsPath\n",
    "\n",
    "# I've explicitly declared my path as being in Windows format, so I can use forward slashes in it.\n",
    "filename = PureWindowsPath(\"C:\\\\Users\\\\zhens\\\\Google Drive\\\\Career\\\\Data Science\\\\Projects\\\\learn-python\")\n",
    "\n",
    "# Convert path to the right format for the current operating system\n",
    "correct_path = Path(filename)\n",
    "\n",
    "print(correct_path)\n",
    "# prints \"source_data/text_files/raw_data.txt\" on Mac and Linux\n",
    "# prints \"source_data\\text_files\\raw_data.txt\" on Windows"
   ]
  },
  {
   "cell_type": "code",
   "execution_count": 10,
   "metadata": {},
   "outputs": [
    {
     "data": {
      "text/plain": [
       "True"
      ]
     },
     "execution_count": 10,
     "metadata": {},
     "output_type": "execute_result"
    }
   ],
   "source": [
    "# Open readme.md in webbrowser\n",
    "from pathlib import Path\n",
    "import webbrowser\n",
    "\n",
    "filename = file_to_open\n",
    "# filename = Path(\"source_data/text_files/raw_data.txt\")\n",
    "\n",
    "webbrowser.open(filename.absolute().as_uri())"
   ]
  },
  {
   "cell_type": "code",
   "execution_count": null,
   "metadata": {},
   "outputs": [],
   "source": []
  }
 ],
 "metadata": {
  "kernelspec": {
   "display_name": "Python 3",
   "language": "python",
   "name": "python3"
  },
  "language_info": {
   "codemirror_mode": {
    "name": "ipython",
    "version": 3
   },
   "file_extension": ".py",
   "mimetype": "text/x-python",
   "name": "python",
   "nbconvert_exporter": "python",
   "pygments_lexer": "ipython3",
   "version": "3.9.1"
  }
 },
 "nbformat": 4,
 "nbformat_minor": 4
}
