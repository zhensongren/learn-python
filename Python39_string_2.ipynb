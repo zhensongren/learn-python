{
 "cells": [
  {
   "cell_type": "markdown",
   "metadata": {},
   "source": [
    "### Capitalize First Letters\n",
    "#### Description\n",
    "Build a function CapLett to capitalize the first letter of each word in a sentence.\n",
    "\n",
    "#### Examples\n",
    "CapLett(\"we are all friends\") returns \"We Are All Friends\""
   ]
  },
  {
   "cell_type": "code",
   "execution_count": 2,
   "metadata": {},
   "outputs": [],
   "source": [
    "def CapLett(sent):\n",
    "    words = sent.split(' ')\n",
    "    res = []\n",
    "    for w in words:\n",
    "        res.append(w.capitalize())\n",
    "    return ' '.join(res)"
   ]
  },
  {
   "cell_type": "code",
   "execution_count": 3,
   "metadata": {},
   "outputs": [
    {
     "data": {
      "text/plain": [
       "'We Are All Friends'"
      ]
     },
     "execution_count": 3,
     "metadata": {},
     "output_type": "execute_result"
    }
   ],
   "source": [
    "CapLett('we are all friends')"
   ]
  },
  {
   "cell_type": "markdown",
   "metadata": {},
   "source": [
    "### Remove Punctuations\n",
    "#### Description\n",
    "Build a function RmPunct to remove punctuations from a string.\n",
    "\n",
    "#### Examples\n",
    "RmPunct(\"He said, that is great!!\") returns \"He said that is great\""
   ]
  },
  {
   "cell_type": "code",
   "execution_count": 5,
   "metadata": {},
   "outputs": [
    {
     "data": {
      "text/plain": [
       "'He said that is great'"
      ]
     },
     "execution_count": 5,
     "metadata": {},
     "output_type": "execute_result"
    }
   ],
   "source": [
    "# removing the chars which are not w or spaces\n",
    "import re\n",
    "\n",
    "def rm_punc(sent):\n",
    "    sent = re.sub(r'[^\\w\\s]', '', sent) \n",
    "    return sent\n",
    "\n",
    "rm_punc(\"He said, that is great!!\")"
   ]
  },
  {
   "cell_type": "code",
   "execution_count": 10,
   "metadata": {},
   "outputs": [
    {
     "data": {
      "text/plain": [
       "'He said that is great'"
      ]
     },
     "execution_count": 10,
     "metadata": {},
     "output_type": "execute_result"
    }
   ],
   "source": [
    "# removing the chars which are not w or spaces\n",
    "import re\n",
    "\n",
    "def rm_punc(sent):\n",
    "    sent = re.sub(r'[^a-zA-Z\\s]', '', sent) \n",
    "    return sent\n",
    "\n",
    "rm_punc(\"He said, that is great!!\")"
   ]
  }
 ],
 "metadata": {
  "kernelspec": {
   "display_name": "Python 3",
   "language": "python",
   "name": "python3"
  },
  "language_info": {
   "codemirror_mode": {
    "name": "ipython",
    "version": 3
   },
   "file_extension": ".py",
   "mimetype": "text/x-python",
   "name": "python",
   "nbconvert_exporter": "python",
   "pygments_lexer": "ipython3",
   "version": "3.8.3"
  }
 },
 "nbformat": 4,
 "nbformat_minor": 4
}
