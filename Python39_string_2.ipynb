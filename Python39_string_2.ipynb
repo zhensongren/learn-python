{
 "cells": [
  {
   "cell_type": "markdown",
   "metadata": {},
   "source": [
    "### Capitalize First Letters\n",
    "#### Description\n",
    "Build a function CapLett to capitalize the first letter of each word in a sentence.\n",
    "\n",
    "#### Examples\n",
    "CapLett(\"we are all friends\") returns \"We Are All Friends\""
   ]
  },
  {
   "cell_type": "code",
   "execution_count": 2,
   "metadata": {},
   "outputs": [],
   "source": [
    "def CapLett(sent):\n",
    "    words = sent.split(' ')\n",
    "    res = []\n",
    "    for w in words:\n",
    "        res.append(w.capitalize())\n",
    "    return ' '.join(res)"
   ]
  },
  {
   "cell_type": "code",
   "execution_count": 3,
   "metadata": {},
   "outputs": [
    {
     "data": {
      "text/plain": [
       "'We Are All Friends'"
      ]
     },
     "execution_count": 3,
     "metadata": {},
     "output_type": "execute_result"
    }
   ],
   "source": [
    "CapLett('we are all friends')"
   ]
  },
  {
   "cell_type": "markdown",
   "metadata": {},
   "source": [
    "### Remove Punctuations\n",
    "#### Description\n",
    "Build a function RmPunct to remove punctuations from a string.\n",
    "\n",
    "#### Examples\n",
    "RmPunct(\"He said, that is great!!\") returns \"He said that is great\""
   ]
  },
  {
   "cell_type": "code",
   "execution_count": 5,
   "metadata": {},
   "outputs": [
    {
     "data": {
      "text/plain": [
       "'He said that is great'"
      ]
     },
     "execution_count": 5,
     "metadata": {},
     "output_type": "execute_result"
    }
   ],
   "source": [
    "# removing the chars which are not w or spaces\n",
    "import re\n",
    "\n",
    "def rm_punc(sent):\n",
    "    sent = re.sub(r'[^\\w\\s]', '', sent) \n",
    "    return sent\n",
    "\n",
    "rm_punc(\"He said, that is great!!\")"
   ]
  },
  {
   "cell_type": "code",
   "execution_count": 10,
   "metadata": {},
   "outputs": [
    {
     "data": {
      "text/plain": [
       "'He said that is great'"
      ]
     },
     "execution_count": 10,
     "metadata": {},
     "output_type": "execute_result"
    }
   ],
   "source": [
    "# removing the chars which are not w or spaces\n",
    "import re\n",
    "\n",
    "def rm_punc(sent):\n",
    "    sent = re.sub(r'[^a-zA-Z\\s]', '', sent) \n",
    "    return sent\n",
    "\n",
    "rm_punc(\"He said, that is great!!\")"
   ]
  },
  {
   "cell_type": "markdown",
   "metadata": {},
   "source": [
    "### N Grams\n",
    "#### Description\n",
    "Build a function NGram which takes a string s and an integer n as inputs, returns a list of n grams of s.\n",
    "\n",
    "#### Examples\n",
    "NGram(\"techlent\", 2) returns [\"te\", \"ec\", \"ch\", \"hl\", \"le\", \"en\", \"nt\"]\n",
    "\n",
    "NGram(\"abc\", 3) returns [\"abc\"]\n",
    "\n",
    "NGram(\"abc\", 4) returns [   ]\n",
    "\n",
    "NGram(\"abc\", 1) returns [\"a\", \"b\", \"c\"]"
   ]
  },
  {
   "cell_type": "code",
   "execution_count": 21,
   "metadata": {},
   "outputs": [
    {
     "data": {
      "text/plain": [
       "['lan', 'ang', 'ngu', 'gua', 'uag', 'age']"
      ]
     },
     "execution_count": 21,
     "metadata": {},
     "output_type": "execute_result"
    }
   ],
   "source": [
    "def Ngram(s, n):\n",
    "    if n<1: return \n",
    "    i = 0\n",
    "    res = []\n",
    "    for i in range(len(s)-n+1):\n",
    "        res.append(s[i:i+n])\n",
    "    return res\n",
    "Ngram('language', 3)"
   ]
  },
  {
   "cell_type": "code",
   "execution_count": 22,
   "metadata": {},
   "outputs": [
    {
     "data": {
      "text/plain": [
       "[['Natural', 'Language'],\n",
       " ['Language', 'Processing'],\n",
       " ['Processing', 'is'],\n",
       " ['is', 'cool!']]"
      ]
     },
     "execution_count": 22,
     "metadata": {},
     "output_type": "execute_result"
    }
   ],
   "source": [
    "def Ngram(s, n):\n",
    "    if n<1: return \n",
    "    s = s.split(' ')\n",
    "    i = 0\n",
    "    res = []\n",
    "    for i in range(len(s)-n+1):\n",
    "        res.append(s[i:i+n])\n",
    "    return res\n",
    "Ngram('Natural Language Processing is cool!', 2)"
   ]
  },
  {
   "cell_type": "markdown",
   "metadata": {},
   "source": [
    "## Palindrome\n",
    "\n",
    "Build a function isPalindrome which takes a string as an input and returns boolin value telling whether the string is a palindrome.\n",
    "\n",
    "Examples\n",
    "isPalindrome(\"abcba\") returns True\n",
    "\n",
    "isPalindrome(\"abba\") returns True\n",
    "\n",
    "isPalindrome(\"a\") returns True\n",
    "\n",
    "isPalindrome(\"\") returns True\n",
    "\n",
    "isPalindrome(\"abcd\") returns False\n"
   ]
  },
  {
   "cell_type": "code",
   "execution_count": 5,
   "metadata": {},
   "outputs": [],
   "source": [
    "def isPalindrome(str):\n",
    "    if len(str)<=1: return True\n",
    "    i, j = 0, len(str)-1\n",
    "    while i<j:\n",
    "        if str[i]!=str[j]: \n",
    "            return False\n",
    "        i+=1\n",
    "        j-=1\n",
    "    return True"
   ]
  },
  {
   "cell_type": "code",
   "execution_count": 10,
   "metadata": {},
   "outputs": [
    {
     "data": {
      "text/plain": [
       "True"
      ]
     },
     "execution_count": 10,
     "metadata": {},
     "output_type": "execute_result"
    }
   ],
   "source": [
    "isPalindrome('123454321')"
   ]
  },
  {
   "cell_type": "code",
   "execution_count": 11,
   "metadata": {},
   "outputs": [
    {
     "data": {
      "text/plain": [
       "True"
      ]
     },
     "execution_count": 11,
     "metadata": {},
     "output_type": "execute_result"
    }
   ],
   "source": [
    "isPalindrome('')"
   ]
  },
  {
   "cell_type": "code",
   "execution_count": 13,
   "metadata": {},
   "outputs": [
    {
     "data": {
      "text/plain": [
       "False"
      ]
     },
     "execution_count": 13,
     "metadata": {},
     "output_type": "execute_result"
    }
   ],
   "source": [
    "isPalindrome('1234554321')"
   ]
  },
  {
   "cell_type": "code",
   "execution_count": 14,
   "metadata": {},
   "outputs": [
    {
     "data": {
      "text/plain": [
       "False"
      ]
     },
     "execution_count": 14,
     "metadata": {},
     "output_type": "execute_result"
    }
   ],
   "source": [
    "isPalindrome('124554321')"
   ]
  },
  {
   "cell_type": "markdown",
   "metadata": {},
   "source": [
    "## Letter Palindrome\n",
    "\n",
    "Build a function LettPalind to determine a string is a palindrome or not. We only consider letters this time.\n",
    "\n",
    "Examples\n",
    "LettPalind(\"909@,.\") returns True\n",
    "LettPalind(\"He is Sieh!\") returns True\n",
    "LettPalind(\"His name is Sieh.\") returns False"
   ]
  },
  {
   "cell_type": "code",
   "execution_count": null,
   "metadata": {},
   "outputs": [],
   "source": [
    "def remove_punc(str):\n",
    "        list = []\n",
    "        for c in str:\n",
    "            if c \n",
    "letters_list = [''.join(x) for x in strs]"
   ]
  },
  {
   "cell_type": "code",
   "execution_count": 23,
   "metadata": {},
   "outputs": [
    {
     "name": "stdout",
     "output_type": "stream",
     "text": [
      "ABCDEFGHIJKLMNOPQRSTUVWXYZ[\\]^_`abcdefghijklmnopqrstuvwxyz\n"
     ]
    }
   ],
   "source": [
    "l = ''\n",
    "for i in range(ord('A'), ord('z')+1):\n",
    "    l+=chr(i)\n",
    "print(l)"
   ]
  },
  {
   "cell_type": "code",
   "execution_count": 40,
   "metadata": {},
   "outputs": [],
   "source": [
    "import re\n",
    "def isPalindrome_letter(str):\n",
    "    if len(str)<=1: return True\n",
    "    s = re.sub(r'\\W', '', str).lower()\n",
    "    i, j = 0, len(s)-1\n",
    "    while i<j:\n",
    "        if s[i]!=s[j] : \n",
    "            return False\n",
    "        i+=1\n",
    "        j-=1\n",
    "    return True"
   ]
  },
  {
   "cell_type": "code",
   "execution_count": 41,
   "metadata": {},
   "outputs": [
    {
     "data": {
      "text/plain": [
       "True"
      ]
     },
     "execution_count": 41,
     "metadata": {},
     "output_type": "execute_result"
    }
   ],
   "source": [
    "isPalindrome_letter('abc#$c#@ba')"
   ]
  },
  {
   "cell_type": "code",
   "execution_count": 42,
   "metadata": {},
   "outputs": [
    {
     "name": "stdout",
     "output_type": "stream",
     "text": [
      "True\n",
      "True\n",
      "False\n"
     ]
    }
   ],
   "source": [
    "strs = ['909@,.', 'He is Sieh!', \"His name is Sieh.\"]\n",
    "for str in strs:\n",
    "        print(isPalindrome_letter(str))"
   ]
  },
  {
   "cell_type": "markdown",
   "metadata": {},
   "source": [
    "### Valid Parenthesis\n",
    " \n",
    "Build a function ValidParenthesis to determine the parenthesis in a string are valid.\n",
    "\n",
    "Examples\n",
    "ValidParenthesis(\"((()))()\") returns True\n",
    "\n",
    "ValidParenthesis(\"()()()\") returns True\n",
    "\n",
    "ValidParenthesis(\"()()()()\") returns False\n",
    "\n",
    "ValidParenthesis(\"((())))\") returns False"
   ]
  },
  {
   "cell_type": "code",
   "execution_count": 64,
   "metadata": {},
   "outputs": [],
   "source": [
    "def ValidParenthesis(str):\n",
    "    if len(str)//2!=0 or len(str)<2:\n",
    "        return False\n",
    "    stack = []\n",
    "    for c in str:\n",
    "        if c=='(':\n",
    "            stack.append(c)\n",
    "        else:\n",
    "            if len(stack)==0 or c!=stack.pop():\n",
    "                return False\n",
    "    print(stack)\n",
    "    return len(stack)==0"
   ]
  },
  {
   "cell_type": "code",
   "execution_count": 65,
   "metadata": {},
   "outputs": [
    {
     "data": {
      "text/plain": [
       "False"
      ]
     },
     "execution_count": 65,
     "metadata": {},
     "output_type": "execute_result"
    }
   ],
   "source": [
    "ValidParenthesis('(()())))))((()))')"
   ]
  },
  {
   "cell_type": "code",
   "execution_count": null,
   "metadata": {},
   "outputs": [],
   "source": []
  },
  {
   "cell_type": "code",
   "execution_count": null,
   "metadata": {},
   "outputs": [],
   "source": []
  }
 ],
 "metadata": {
  "kernelspec": {
   "display_name": "Python 3",
   "language": "python",
   "name": "python3"
  },
  "language_info": {
   "codemirror_mode": {
    "name": "ipython",
    "version": 3
   },
   "file_extension": ".py",
   "mimetype": "text/x-python",
   "name": "python",
   "nbconvert_exporter": "python",
   "pygments_lexer": "ipython3",
   "version": "3.8.3"
  }
 },
 "nbformat": 4,
 "nbformat_minor": 4
}
