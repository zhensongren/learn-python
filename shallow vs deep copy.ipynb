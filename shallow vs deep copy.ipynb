{
 "cells": [
  {
   "cell_type": "code",
   "execution_count": 1,
   "metadata": {},
   "outputs": [],
   "source": [
    "# use copy module to demonstrate deep and shalow copy\n",
    "# importing copy module \n",
    "import copy"
   ]
  },
  {
   "cell_type": "code",
   "execution_count": 2,
   "metadata": {},
   "outputs": [
    {
     "name": "stdout",
     "output_type": "stream",
     "text": [
      "deepcopy before change: ['i', 'love', 'math']\n",
      "deepcopy after change: ['i', 'love', 'music']\n",
      "----------------------------------------\n",
      "original math: ['i', 'love', 'math']\n"
     ]
    }
   ],
   "source": [
    "math = ['i', 'love', 'math']\n",
    "list_deep = copy.deepcopy(math)\n",
    "print('deepcopy before change:', list_deep)\n",
    "list_deep[2] = 'music'\n",
    "print('deepcopy after change:', list_deep)\n",
    "print('--'*20)\n",
    "print('original math:', math)"
   ]
  },
  {
   "cell_type": "code",
   "execution_count": 3,
   "metadata": {},
   "outputs": [
    {
     "name": "stdout",
     "output_type": "stream",
     "text": [
      "shallowcopy before change: ['i', 'love', 'physics']\n",
      "shallowcopy after change: ['i', 'love', 'music']\n",
      "----------------------------------------\n",
      "i\n",
      "love\n",
      "physics\n"
     ]
    }
   ],
   "source": [
    "physics = ['i', 'love', 'physics']\n",
    "list_shallow = copy.copy(physics)\n",
    "print('shallowcopy before change:', list_shallow)\n",
    "list_shallow[2] = 'music'\n",
    "print('shallowcopy after change:', list_shallow)\n",
    "print('--'*20)\n",
    "# print('original physics:', physics)\n",
    "for e in physics:\n",
    "    print(e)"
   ]
  },
  {
   "cell_type": "code",
   "execution_count": 4,
   "metadata": {},
   "outputs": [
    {
     "name": "stdout",
     "output_type": "stream",
     "text": [
      "The original elements before shallow copying\n",
      "1 2 [3, 5] 4 \n",
      "The original elements after shallow copying\n",
      "1 2 [7, 5] 4 "
     ]
    }
   ],
   "source": [
    "import copy \n",
    "\n",
    "li1 = [1, 2, [3, 5], 4] \n",
    "\n",
    "li2 = copy.copy(li1) \n",
    "\n",
    "print (\"The original elements before shallow copying\") \n",
    "for i in range(0,len(li1)): \n",
    "\tprint (li1[i],end=\" \") \n",
    "print(\"\\r\") \n",
    "\n",
    "# adding and element to new list \n",
    "li2[2][0] = 7\n",
    "\n",
    "print (\"The original elements after shallow copying\") \n",
    "for i in range(0,len( li1)): \n",
    "\tprint (li1[i],end=\" \") \n"
   ]
  },
  {
   "cell_type": "code",
   "execution_count": null,
   "metadata": {},
   "outputs": [],
   "source": []
  },
  {
   "cell_type": "code",
   "execution_count": 5,
   "metadata": {},
   "outputs": [
    {
     "name": "stdout",
     "output_type": "stream",
     "text": [
      "shallowcopy before change: [1, 2, 3]\n",
      "----------------------------------------\n",
      "i love physics "
     ]
    }
   ],
   "source": [
    "original = [1, 2, 3]\n",
    "list_shallow = copy.copy(original)\n",
    "print('shallowcopy before change:', original)\n",
    "list_shallow[2] = 0\n",
    "# print('shallowcopy after change:', list_shallow)\n",
    "print('--'*20)\n",
    "# print('original original:', original)\n",
    "# print(original)\n",
    "for i in range(0, len( original)): \n",
    "\tprint (physics[i], end=\" \") \n"
   ]
  },
  {
   "cell_type": "code",
   "execution_count": 10,
   "metadata": {},
   "outputs": [
    {
     "name": "stdout",
     "output_type": "stream",
     "text": [
      "original compound_list: [1, 2, 3, [0], 4]\n",
      "new list after change: [1, 2, 3, [0], 0]\n",
      "----------------------------------------\n",
      "original compound_list\n",
      "[1, 2, 3, [0], 4]\n"
     ]
    }
   ],
   "source": [
    "compound_list = [1, 2, 3, [0], 4]\n",
    "print('original compound_list:', compound_list)\n",
    "list_shallow = copy.copy(compound_list)\n",
    "\n",
    "list_shallow[-1] = 0\n",
    "print('new list after change:', list_shallow)\n",
    "\n",
    "print('--'*20)\n",
    "print('original compound_list')\n",
    "print(compound_list)\n",
    "# for i in range(0, len(compound_list)): \n",
    "# \tprint (compound_list[i], end=\" \") "
   ]
  },
  {
   "cell_type": "code",
   "execution_count": 9,
   "metadata": {},
   "outputs": [
    {
     "name": "stdout",
     "output_type": "stream",
     "text": [
      "original compound_list: [1, 2, 3, [0, 0, 0, 1], 4]\n",
      "new list after change: [1, 2, 3, [1, 0, 0, 1], 4]\n",
      "----------------------------------------\n",
      "original compound_list\n",
      "[1, 2, 3, [1, 0, 0, 1], 4]\n"
     ]
    }
   ],
   "source": [
    "compound_list = [1, 2, 3, [0,0,0,1], 4]\n",
    "print('original compound_list:', compound_list)\n",
    "list_shallow = copy.copy(compound_list)\n",
    "\n",
    "list_shallow[-2][0] = 1\n",
    "print('new list after change:', list_shallow)\n",
    "\n",
    "print('--'*20)\n",
    "print('original compound_list')\n",
    "print(compound_list)\n",
    "# for i in range(0, len(compound_list)): \n",
    "# \tprint (compound_list[i], end=\" \") "
   ]
  },
  {
   "cell_type": "code",
   "execution_count": null,
   "metadata": {},
   "outputs": [],
   "source": []
  },
  {
   "cell_type": "code",
   "execution_count": null,
   "metadata": {},
   "outputs": [],
   "source": []
  },
  {
   "cell_type": "code",
   "execution_count": 13,
   "metadata": {},
   "outputs": [
    {
     "name": "stdout",
     "output_type": "stream",
     "text": [
      "original compound_list: [1, 2, 3, [0], 4]\n",
      "new list after change: [1, 2, 3, 1, 4]\n",
      "----------------------------------------\n",
      "original compound_list\n",
      "[1, 2, 3, [0], 4]\n"
     ]
    }
   ],
   "source": [
    "compound_list = [1, 2, 3, [0], 4]\n",
    "print('original compound_list:', compound_list)\n",
    "list_shallow = copy.copy(compound_list)\n",
    "\n",
    "list_shallow[-2] = 1\n",
    "print('new list after change:', list_shallow)\n",
    "\n",
    "print('--'*20)\n",
    "print('original compound_list')\n",
    "print(compound_list)\n",
    "# for i in range(0, len(compound_list)): \n",
    "# \tprint (compound_list[i], end=\" \") "
   ]
  },
  {
   "cell_type": "markdown",
   "metadata": {},
   "source": [
    "The reason this doesn't work is because '1' and '7' are immutable objects. When the number '1' is created for the first time, all following references to '1' go to the same object. So, when you change b[0] to '7', since the original reference is immutable and can't be changed, the reference at b[0] is changed to the new reference to the also immutable '7', leaving the original reference in a[0] still pointing at the immutable object for '1'. However, the reason the original example worked is because the number that was changed was in the mutable list located at a[2]. This list can be changed, so when the shallow copy made b it copied the reference to the list to b. So, when b[2][0] was changed, since both a[2] and b[2] both point to the same mutable list '[3,5]', a change to one changed both.\n",
    "\n",
    "To clarify:\n",
    "a is created:\n",
    "a[0] points to ->1 - immutable\n",
    "a[1] points to -> 2 - immutable\n",
    "a[2] points to -> list 1 - mutable!!!\n",
    "list 1 contents:\n",
    "list_1[0] points to -> 3 - immutable\n",
    "list_1[1] points to -> 5 - immutable\n",
    "a[3] points to -> 4 - immutable\n",
    "\n",
    "soft copy a to b:\n",
    "all immutable objects get references that can't be changed\n",
    "list a gets its reference from a copied to b\n",
    "\n",
    "b is created:\n",
    "b[0] points to ->1 - immutable\n",
    "b[1] points to -> 2 - immutable\n",
    "b[2] points to -> list 1 - mutable!!! - Same list as in a[2]\n",
    "list 1 contents:\n",
    "list_1[0] points to -> 3 - immutable\n",
    "list_1[1] points to -> 5 - immutable\n",
    "b[3] points to -> 4 - immutable\n",
    "\n",
    "attempt to change b[0]:\n",
    "the number '1' in b[0] is immutable and can't be changed to '7', so instead the reference b[0] is changed to point to the immutable object '7'\n",
    "\n",
    "attempt to change b[2][0]:\n",
    "b[2] is a reference to the mutable list 1, so changes to b[2] don't change the reference to list 1, but rather the contents of the list itself, which a[2] is also pointing to, changing it in both a[2] and b[2]\n",
    "\n",
    "if a deep copy of b had been made the reference in b[2] would be to a new list with the same initial contents:\n",
    "\n",
    "a contents\n",
    "...\n",
    "a[2] points to -> list 1\n",
    "list 1 contents:\n",
    "list_1[0] points to -> 3\n",
    "list_1[1] points to -> 5\n",
    "...\n",
    "\n",
    "b contents after deep copy:\n",
    "...\n",
    "b[2] points to -> list 2\n",
    "list 2 contents:\n",
    "list_2[0] points to -> 3\n",
    "list_2[1] points to -> 5\n",
    "...\n",
    "\n",
    "So changes to b[2], which now points to list 2, which initially is identical to list 1's contents, is a new and independent list that when changed won't affect list 1's contents\n",
    "\n"
   ]
  },
  {
   "cell_type": "code",
   "execution_count": null,
   "metadata": {},
   "outputs": [],
   "source": []
  }
 ],
 "metadata": {
  "kernelspec": {
   "display_name": "Python 3",
   "language": "python",
   "name": "python3"
  },
  "language_info": {
   "codemirror_mode": {
    "name": "ipython",
    "version": 3
   },
   "file_extension": ".py",
   "mimetype": "text/x-python",
   "name": "python",
   "nbconvert_exporter": "python",
   "pygments_lexer": "ipython3",
   "version": "3.8.3"
  }
 },
 "nbformat": 4,
 "nbformat_minor": 4
}
