{
 "cells": [
  {
   "cell_type": "markdown",
   "id": "cd8734c2-c2af-418d-a9f1-c6284aba0dc0",
   "metadata": {},
   "source": [
    "**map** apply a function only to a series(column in a datafram)\n",
    "\n",
    "**apply** can apply a function to multiple columns in a dafaframe, or a series.\n",
    "\n",
    "**applymap** can apply a function element-wise for a dataframe."
   ]
  },
  {
   "cell_type": "markdown",
   "id": "524e0f64-f394-41bb-8788-d3953ecd2b05",
   "metadata": {},
   "source": [
    "**applymap** is only a function for dataframe\n",
    "**apply** works on both series and dataframe\n",
    "**map** is only a method for series"
   ]
  },
  {
   "cell_type": "code",
   "execution_count": 1,
   "id": "af60f1e8-ca31-44a6-ae38-c793f126b915",
   "metadata": {},
   "outputs": [],
   "source": [
    "import pandas as pd\n",
    "import numpy as np"
   ]
  },
  {
   "cell_type": "code",
   "execution_count": 2,
   "id": "be68158f-f942-40b5-bfa3-85504a0ea619",
   "metadata": {},
   "outputs": [
    {
     "data": {
      "text/html": [
       "<div>\n",
       "<style scoped>\n",
       "    .dataframe tbody tr th:only-of-type {\n",
       "        vertical-align: middle;\n",
       "    }\n",
       "\n",
       "    .dataframe tbody tr th {\n",
       "        vertical-align: top;\n",
       "    }\n",
       "\n",
       "    .dataframe thead th {\n",
       "        text-align: right;\n",
       "    }\n",
       "</style>\n",
       "<table border=\"1\" class=\"dataframe\">\n",
       "  <thead>\n",
       "    <tr style=\"text-align: right;\">\n",
       "      <th></th>\n",
       "      <th>Customer</th>\n",
       "      <th>Costs_1</th>\n",
       "      <th>Costs_2</th>\n",
       "      <th>Costs_3</th>\n",
       "    </tr>\n",
       "  </thead>\n",
       "  <tbody>\n",
       "    <tr>\n",
       "      <th>0</th>\n",
       "      <td>Mr.Burns</td>\n",
       "      <td>0</td>\n",
       "      <td>0</td>\n",
       "      <td>0</td>\n",
       "    </tr>\n",
       "    <tr>\n",
       "      <th>1</th>\n",
       "      <td>Lisa</td>\n",
       "      <td>2</td>\n",
       "      <td>4</td>\n",
       "      <td>6</td>\n",
       "    </tr>\n",
       "    <tr>\n",
       "      <th>2</th>\n",
       "      <td>Marge</td>\n",
       "      <td>4</td>\n",
       "      <td>8</td>\n",
       "      <td>12</td>\n",
       "    </tr>\n",
       "    <tr>\n",
       "      <th>3</th>\n",
       "      <td>Milhouse</td>\n",
       "      <td>6</td>\n",
       "      <td>12</td>\n",
       "      <td>18</td>\n",
       "    </tr>\n",
       "    <tr>\n",
       "      <th>4</th>\n",
       "      <td>Bart</td>\n",
       "      <td>8</td>\n",
       "      <td>16</td>\n",
       "      <td>24</td>\n",
       "    </tr>\n",
       "    <tr>\n",
       "      <th>5</th>\n",
       "      <td>Homer</td>\n",
       "      <td>10</td>\n",
       "      <td>20</td>\n",
       "      <td>30</td>\n",
       "    </tr>\n",
       "  </tbody>\n",
       "</table>\n",
       "</div>"
      ],
      "text/plain": [
       "   Customer  Costs_1  Costs_2  Costs_3\n",
       "0  Mr.Burns        0        0        0\n",
       "1      Lisa        2        4        6\n",
       "2     Marge        4        8       12\n",
       "3  Milhouse        6       12       18\n",
       "4      Bart        8       16       24\n",
       "5     Homer       10       20       30"
      ]
     },
     "execution_count": 2,
     "metadata": {},
     "output_type": "execute_result"
    }
   ],
   "source": [
    "df = pd.DataFrame({'Customer': 'Mr.Burns Lisa Marge Milhouse Bart Homer'.split(),\n",
    " 'Costs_1': np.arange(6) *2, 'Costs_2': np.arange(6) * 4, 'Costs_3': np.arange(6) * 6})\n",
    "df"
   ]
  },
  {
   "cell_type": "markdown",
   "id": "1958218f-00fa-45b3-a6ba-5e0ae41226b2",
   "metadata": {},
   "source": [
    "**apply** a function to a dataframe's rows (vertically)"
   ]
  },
  {
   "cell_type": "code",
   "execution_count": 3,
   "id": "951429e7-0bbd-4439-b82e-b41cd3529c4b",
   "metadata": {},
   "outputs": [
    {
     "data": {
      "text/plain": [
       "Costs_1    10\n",
       "Costs_2    20\n",
       "Costs_3    30\n",
       "dtype: int64"
      ]
     },
     "execution_count": 3,
     "metadata": {},
     "output_type": "execute_result"
    }
   ],
   "source": [
    "def diff_calc(x):\n",
    "    diff = x.max() - x.min()\n",
    "    return diff\n",
    "\n",
    "df[['Costs_1', 'Costs_2', 'Costs_3']].apply(diff_calc)"
   ]
  },
  {
   "cell_type": "markdown",
   "id": "444e74ac-b52b-40c8-b1e7-e25cd4f46412",
   "metadata": {},
   "source": [
    "**apply** a function to a dataframe's columns (horizontally)"
   ]
  },
  {
   "cell_type": "code",
   "execution_count": 4,
   "id": "9895c88c-eacd-4b6e-b653-e8530675571d",
   "metadata": {},
   "outputs": [
    {
     "data": {
      "text/plain": [
       "0     0\n",
       "1     4\n",
       "2     8\n",
       "3    12\n",
       "4    16\n",
       "5    20\n",
       "dtype: int64"
      ]
     },
     "execution_count": 4,
     "metadata": {},
     "output_type": "execute_result"
    }
   ],
   "source": [
    "df[['Costs_1', 'Costs_2', 'Costs_3']].apply(diff_calc, axis=1)"
   ]
  },
  {
   "cell_type": "markdown",
   "id": "469f05a7-4eec-4b92-b5fc-3111c5be8fff",
   "metadata": {},
   "source": [
    "**apply** works on a series too."
   ]
  },
  {
   "cell_type": "code",
   "execution_count": 5,
   "id": "b1db00b4-aa85-4845-a178-f166dc6c03fb",
   "metadata": {},
   "outputs": [
    {
     "data": {
      "text/plain": [
       "0     1\n",
       "1     3\n",
       "2     5\n",
       "3     7\n",
       "4     9\n",
       "5    11\n",
       "Name: Costs_1, dtype: int64"
      ]
     },
     "execution_count": 5,
     "metadata": {},
     "output_type": "execute_result"
    }
   ],
   "source": [
    "df['Costs_1'].apply(lambda x: x+1)"
   ]
  },
  {
   "cell_type": "markdown",
   "id": "05fbf9be-94ba-4cc3-be33-9ad1b6212fb5",
   "metadata": {},
   "source": [
    "**applymap** a function to all of elements of a dataframe."
   ]
  },
  {
   "cell_type": "code",
   "execution_count": 6,
   "id": "a177b5d4-0b96-4207-834d-ed063e91f5ac",
   "metadata": {},
   "outputs": [],
   "source": [
    "def simpsons_string(x):\n",
    "    result = \"S_\" + str(x)\n",
    "    return result"
   ]
  },
  {
   "cell_type": "code",
   "execution_count": 7,
   "id": "aaf0053a-eaee-4046-8d78-86e1d180dae9",
   "metadata": {},
   "outputs": [
    {
     "data": {
      "text/html": [
       "<div>\n",
       "<style scoped>\n",
       "    .dataframe tbody tr th:only-of-type {\n",
       "        vertical-align: middle;\n",
       "    }\n",
       "\n",
       "    .dataframe tbody tr th {\n",
       "        vertical-align: top;\n",
       "    }\n",
       "\n",
       "    .dataframe thead th {\n",
       "        text-align: right;\n",
       "    }\n",
       "</style>\n",
       "<table border=\"1\" class=\"dataframe\">\n",
       "  <thead>\n",
       "    <tr style=\"text-align: right;\">\n",
       "      <th></th>\n",
       "      <th>Customer</th>\n",
       "      <th>Costs_1</th>\n",
       "      <th>Costs_2</th>\n",
       "      <th>Costs_3</th>\n",
       "    </tr>\n",
       "  </thead>\n",
       "  <tbody>\n",
       "    <tr>\n",
       "      <th>0</th>\n",
       "      <td>S_Mr.Burns</td>\n",
       "      <td>S_0</td>\n",
       "      <td>S_0</td>\n",
       "      <td>S_0</td>\n",
       "    </tr>\n",
       "    <tr>\n",
       "      <th>1</th>\n",
       "      <td>S_Lisa</td>\n",
       "      <td>S_2</td>\n",
       "      <td>S_4</td>\n",
       "      <td>S_6</td>\n",
       "    </tr>\n",
       "    <tr>\n",
       "      <th>2</th>\n",
       "      <td>S_Marge</td>\n",
       "      <td>S_4</td>\n",
       "      <td>S_8</td>\n",
       "      <td>S_12</td>\n",
       "    </tr>\n",
       "    <tr>\n",
       "      <th>3</th>\n",
       "      <td>S_Milhouse</td>\n",
       "      <td>S_6</td>\n",
       "      <td>S_12</td>\n",
       "      <td>S_18</td>\n",
       "    </tr>\n",
       "    <tr>\n",
       "      <th>4</th>\n",
       "      <td>S_Bart</td>\n",
       "      <td>S_8</td>\n",
       "      <td>S_16</td>\n",
       "      <td>S_24</td>\n",
       "    </tr>\n",
       "    <tr>\n",
       "      <th>5</th>\n",
       "      <td>S_Homer</td>\n",
       "      <td>S_10</td>\n",
       "      <td>S_20</td>\n",
       "      <td>S_30</td>\n",
       "    </tr>\n",
       "  </tbody>\n",
       "</table>\n",
       "</div>"
      ],
      "text/plain": [
       "     Customer Costs_1 Costs_2 Costs_3\n",
       "0  S_Mr.Burns     S_0     S_0     S_0\n",
       "1      S_Lisa     S_2     S_4     S_6\n",
       "2     S_Marge     S_4     S_8    S_12\n",
       "3  S_Milhouse     S_6    S_12    S_18\n",
       "4      S_Bart     S_8    S_16    S_24\n",
       "5     S_Homer    S_10    S_20    S_30"
      ]
     },
     "execution_count": 7,
     "metadata": {},
     "output_type": "execute_result"
    }
   ],
   "source": [
    "df.applymap(simpsons_string)"
   ]
  },
  {
   "cell_type": "markdown",
   "id": "0a3b0f05-6998-4d55-a4d4-e899a4f54a34",
   "metadata": {},
   "source": [
    "**applymap** is only a function for dataframe"
   ]
  },
  {
   "cell_type": "code",
   "execution_count": 8,
   "id": "6f52ca6f-4b61-4f3b-bb7b-50e483ebbc13",
   "metadata": {},
   "outputs": [
    {
     "ename": "AttributeError",
     "evalue": "'Series' object has no attribute 'applymap'",
     "output_type": "error",
     "traceback": [
      "\u001b[1;31m---------------------------------------------------------------------------\u001b[0m",
      "\u001b[1;31mAttributeError\u001b[0m                            Traceback (most recent call last)",
      "\u001b[1;32m<ipython-input-8-640d3784cf6d>\u001b[0m in \u001b[0;36m<module>\u001b[1;34m\u001b[0m\n\u001b[1;32m----> 1\u001b[1;33m \u001b[0mdf\u001b[0m\u001b[1;33m[\u001b[0m\u001b[1;34m'Costs_1'\u001b[0m\u001b[1;33m]\u001b[0m\u001b[1;33m.\u001b[0m\u001b[0mapplymap\u001b[0m\u001b[1;33m(\u001b[0m\u001b[0msimpsons_string\u001b[0m\u001b[1;33m)\u001b[0m\u001b[1;33m\u001b[0m\u001b[1;33m\u001b[0m\u001b[0m\n\u001b[0m",
      "\u001b[1;32m~\\miniconda3\\lib\\site-packages\\pandas\\core\\generic.py\u001b[0m in \u001b[0;36m__getattr__\u001b[1;34m(self, name)\u001b[0m\n\u001b[0;32m   5476\u001b[0m         ):\n\u001b[0;32m   5477\u001b[0m             \u001b[1;32mreturn\u001b[0m \u001b[0mself\u001b[0m\u001b[1;33m[\u001b[0m\u001b[0mname\u001b[0m\u001b[1;33m]\u001b[0m\u001b[1;33m\u001b[0m\u001b[1;33m\u001b[0m\u001b[0m\n\u001b[1;32m-> 5478\u001b[1;33m         \u001b[1;32mreturn\u001b[0m \u001b[0mobject\u001b[0m\u001b[1;33m.\u001b[0m\u001b[0m__getattribute__\u001b[0m\u001b[1;33m(\u001b[0m\u001b[0mself\u001b[0m\u001b[1;33m,\u001b[0m \u001b[0mname\u001b[0m\u001b[1;33m)\u001b[0m\u001b[1;33m\u001b[0m\u001b[1;33m\u001b[0m\u001b[0m\n\u001b[0m\u001b[0;32m   5479\u001b[0m \u001b[1;33m\u001b[0m\u001b[0m\n\u001b[0;32m   5480\u001b[0m     \u001b[1;32mdef\u001b[0m \u001b[0m__setattr__\u001b[0m\u001b[1;33m(\u001b[0m\u001b[0mself\u001b[0m\u001b[1;33m,\u001b[0m \u001b[0mname\u001b[0m\u001b[1;33m:\u001b[0m \u001b[0mstr\u001b[0m\u001b[1;33m,\u001b[0m \u001b[0mvalue\u001b[0m\u001b[1;33m)\u001b[0m \u001b[1;33m->\u001b[0m \u001b[1;32mNone\u001b[0m\u001b[1;33m:\u001b[0m\u001b[1;33m\u001b[0m\u001b[1;33m\u001b[0m\u001b[0m\n",
      "\u001b[1;31mAttributeError\u001b[0m: 'Series' object has no attribute 'applymap'"
     ]
    }
   ],
   "source": [
    "df['Costs_1'].applymap(simpsons_string)"
   ]
  },
  {
   "cell_type": "markdown",
   "id": "a0a45bcc-790c-4890-9c75-3952711bfe23",
   "metadata": {},
   "source": [
    "**map** a function only to a single column"
   ]
  },
  {
   "cell_type": "code",
   "execution_count": 9,
   "id": "db9f3de2-85c1-479b-80d0-4c1d486c5da4",
   "metadata": {},
   "outputs": [
    {
     "data": {
      "text/plain": [
       "0    S_Mr.Burns\n",
       "1        S_Lisa\n",
       "2       S_Marge\n",
       "3    S_Milhouse\n",
       "4        S_Bart\n",
       "5       S_Homer\n",
       "Name: Customer, dtype: object"
      ]
     },
     "execution_count": 9,
     "metadata": {},
     "output_type": "execute_result"
    }
   ],
   "source": [
    " df['Customer'].map(simpsons_string)"
   ]
  },
  {
   "cell_type": "markdown",
   "id": "f3bb8034-f018-4ac6-a8e1-0de309e8c2cb",
   "metadata": {},
   "source": [
    "**map** is not a method for dataframe"
   ]
  },
  {
   "cell_type": "code",
   "execution_count": 10,
   "id": "915df69f-6f73-4260-b2ab-05c3091e6186",
   "metadata": {},
   "outputs": [
    {
     "ename": "AttributeError",
     "evalue": "'DataFrame' object has no attribute 'map'",
     "output_type": "error",
     "traceback": [
      "\u001b[1;31m---------------------------------------------------------------------------\u001b[0m",
      "\u001b[1;31mAttributeError\u001b[0m                            Traceback (most recent call last)",
      "\u001b[1;32m<ipython-input-10-259356e5b330>\u001b[0m in \u001b[0;36m<module>\u001b[1;34m\u001b[0m\n\u001b[1;32m----> 1\u001b[1;33m \u001b[0mdf\u001b[0m\u001b[1;33m.\u001b[0m\u001b[0mmap\u001b[0m\u001b[1;33m(\u001b[0m\u001b[0msimpsons_string\u001b[0m\u001b[1;33m)\u001b[0m\u001b[1;33m\u001b[0m\u001b[1;33m\u001b[0m\u001b[0m\n\u001b[0m",
      "\u001b[1;32m~\\miniconda3\\lib\\site-packages\\pandas\\core\\generic.py\u001b[0m in \u001b[0;36m__getattr__\u001b[1;34m(self, name)\u001b[0m\n\u001b[0;32m   5476\u001b[0m         ):\n\u001b[0;32m   5477\u001b[0m             \u001b[1;32mreturn\u001b[0m \u001b[0mself\u001b[0m\u001b[1;33m[\u001b[0m\u001b[0mname\u001b[0m\u001b[1;33m]\u001b[0m\u001b[1;33m\u001b[0m\u001b[1;33m\u001b[0m\u001b[0m\n\u001b[1;32m-> 5478\u001b[1;33m         \u001b[1;32mreturn\u001b[0m \u001b[0mobject\u001b[0m\u001b[1;33m.\u001b[0m\u001b[0m__getattribute__\u001b[0m\u001b[1;33m(\u001b[0m\u001b[0mself\u001b[0m\u001b[1;33m,\u001b[0m \u001b[0mname\u001b[0m\u001b[1;33m)\u001b[0m\u001b[1;33m\u001b[0m\u001b[1;33m\u001b[0m\u001b[0m\n\u001b[0m\u001b[0;32m   5479\u001b[0m \u001b[1;33m\u001b[0m\u001b[0m\n\u001b[0;32m   5480\u001b[0m     \u001b[1;32mdef\u001b[0m \u001b[0m__setattr__\u001b[0m\u001b[1;33m(\u001b[0m\u001b[0mself\u001b[0m\u001b[1;33m,\u001b[0m \u001b[0mname\u001b[0m\u001b[1;33m:\u001b[0m \u001b[0mstr\u001b[0m\u001b[1;33m,\u001b[0m \u001b[0mvalue\u001b[0m\u001b[1;33m)\u001b[0m \u001b[1;33m->\u001b[0m \u001b[1;32mNone\u001b[0m\u001b[1;33m:\u001b[0m\u001b[1;33m\u001b[0m\u001b[1;33m\u001b[0m\u001b[0m\n",
      "\u001b[1;31mAttributeError\u001b[0m: 'DataFrame' object has no attribute 'map'"
     ]
    }
   ],
   "source": [
    "df.map(simpsons_string)"
   ]
  },
  {
   "cell_type": "code",
   "execution_count": null,
   "id": "3520949f-48f1-46e6-b7fb-0e9296cda32a",
   "metadata": {},
   "outputs": [],
   "source": []
  }
 ],
 "metadata": {
  "kernelspec": {
   "display_name": "Python 3",
   "language": "python",
   "name": "python3"
  },
  "language_info": {
   "codemirror_mode": {
    "name": "ipython",
    "version": 3
   },
   "file_extension": ".py",
   "mimetype": "text/x-python",
   "name": "python",
   "nbconvert_exporter": "python",
   "pygments_lexer": "ipython3",
   "version": "3.9.1"
  },
  "toc-showmarkdowntxt": true
 },
 "nbformat": 4,
 "nbformat_minor": 5
}
